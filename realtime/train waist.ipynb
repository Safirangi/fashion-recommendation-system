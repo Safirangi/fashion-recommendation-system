{
 "cells": [
  {
   "cell_type": "code",
   "execution_count": 1,
   "metadata": {},
   "outputs": [
    {
     "name": "stderr",
     "output_type": "stream",
     "text": [
      "2024-04-28 14:52:17.334906: I tensorflow/core/util/port.cc:113] oneDNN custom operations are on. You may see slightly different numerical results due to floating-point round-off errors from different computation orders. To turn them off, set the environment variable `TF_ENABLE_ONEDNN_OPTS=0`.\n",
      "2024-04-28 14:52:17.363631: I tensorflow/core/platform/cpu_feature_guard.cc:210] This TensorFlow binary is optimized to use available CPU instructions in performance-critical operations.\n",
      "To enable the following instructions: AVX2 AVX_VNNI FMA, in other operations, rebuild TensorFlow with the appropriate compiler flags.\n",
      "2024-04-28 14:52:17.833729: W tensorflow/compiler/tf2tensorrt/utils/py_utils.cc:38] TF-TRT Warning: Could not find TensorRT\n"
     ]
    }
   ],
   "source": [
    "import pandas as pd\n",
    "import numpy as np\n",
    "from sklearn.model_selection import train_test_split\n",
    "from sklearn.preprocessing import MinMaxScaler\n",
    "from sklearn.preprocessing import StandardScaler\n",
    "# from pandas_profiling import ProfileReport\n",
    "import matplotlib.pyplot as plt\n",
    "from sklearn.metrics import mean_squared_error\n",
    "from feature_extraction import calculate_person_height\n",
    "from feature_extraction import normalize_image"
   ]
  },
  {
   "cell_type": "code",
   "execution_count": 2,
   "metadata": {},
   "outputs": [],
   "source": [
    "# Load the CSV file\n",
    "df = pd.read_csv('/home/saiganesh.s/ML/body_measurements/updated_csv_file.csv')\n",
    "df = df.dropna(subset=['Shoulder', 'pix_height','pix_shoulder_distance','pix_waist_distance','top_pix_distance','pix_upperbody_distance','pix_lowerbody_distance'])\n"
   ]
  },
  {
   "cell_type": "code",
   "execution_count": 5,
   "metadata": {},
   "outputs": [],
   "source": [
    "from sklearn.model_selection import train_test_split\n",
    "from sklearn.linear_model import LinearRegression\n",
    "from sklearn.ensemble import RandomForestRegressor\n",
    "from sklearn.preprocessing import PolynomialFeatures\n",
    "from sklearn.pipeline import make_pipeline\n",
    "import tensorflow as tf\n",
    "from tensorflow.keras.models import Sequential\n",
    "from tensorflow.keras.layers import Dense\n",
    "\n",
    "# Load the data from CSV\n",
    "data = df\n",
    "\n",
    "# Extract features (X) and target variable (y)\n",
    "X = data[['top_pix_distance','pix_height','pix_waist_distance']].values  # Centimeter measurements\n",
    "y = data[['Waist']].values  # Pixel values\n",
    "\n",
    "# Split the data into training and testing sets\n",
    "X_train, X_test, y_train, y_test = train_test_split(X, y, test_size=0.2, random_state=42)\n"
   ]
  },
  {
   "cell_type": "code",
   "execution_count": 7,
   "metadata": {},
   "outputs": [
    {
     "data": {
      "text/plain": [
       "array([[0.14770833, 0.72985453, 0.13090105],\n",
       "       [0.13193148, 0.77575746, 0.13888915],\n",
       "       [0.13620055, 0.67624181, 0.12973552],\n",
       "       ...,\n",
       "       [0.13002872, 0.78321065, 0.16496781],\n",
       "       [0.1096634 , 0.74814233, 0.13075708],\n",
       "       [0.14574572, 0.6862717 , 0.11403872]])"
      ]
     },
     "execution_count": 7,
     "metadata": {},
     "output_type": "execute_result"
    }
   ],
   "source": [
    "X_train"
   ]
  },
  {
   "cell_type": "code",
   "execution_count": 8,
   "metadata": {},
   "outputs": [
    {
     "name": "stdout",
     "output_type": "stream",
     "text": [
      "Linear Regression - Training R^2 score: 0.15923672872362593\n",
      "Linear Regression - Testing R^2 score: -0.0404508503128973\n"
     ]
    }
   ],
   "source": [
    "# Linear Regression\n",
    "linear_model = LinearRegression()\n",
    "linear_model.fit(X_train, y_train)\n",
    "linear_train_score = linear_model.score(X_train, y_train)\n",
    "linear_test_score = linear_model.score(X_test, y_test)\n",
    "print(\"Linear Regression - Training R^2 score:\", linear_train_score)\n",
    "print(\"Linear Regression - Testing R^2 score:\", linear_test_score)\n",
    "\n"
   ]
  },
  {
   "cell_type": "code",
   "execution_count": 9,
   "metadata": {},
   "outputs": [
    {
     "name": "stdout",
     "output_type": "stream",
     "text": [
      "Random Forest - Training R^2 score: 0.866318099879116\n",
      "Random Forest - Testing R^2 score: 0.03553198681713576\n"
     ]
    }
   ],
   "source": [
    "# Random Forest\n",
    "rf_model = RandomForestRegressor(n_estimators=100, random_state=42)\n",
    "rf_model.fit(X_train, y_train.ravel())  # Ravel y to convert it to 1D array\n",
    "rf_train_score = rf_model.score(X_train, y_train)\n",
    "rf_test_score = rf_model.score(X_test, y_test)\n",
    "print(\"Random Forest - Training R^2 score:\", rf_train_score)\n",
    "print(\"Random Forest - Testing R^2 score:\", rf_test_score)"
   ]
  },
  {
   "cell_type": "code",
   "execution_count": 10,
   "metadata": {},
   "outputs": [
    {
     "name": "stdout",
     "output_type": "stream",
     "text": [
      "Polynomial Regression - Training R^2 score: 0.20075738557541656\n",
      "Polynomial Regression - Testing R^2 score: 0.049008843538126845\n"
     ]
    }
   ],
   "source": [
    "# Polynomial Regression\n",
    "poly_model = make_pipeline(PolynomialFeatures(degree=2), LinearRegression())\n",
    "poly_model.fit(X_train, y_train)\n",
    "poly_train_score = poly_model.score(X_train, y_train)\n",
    "poly_test_score = poly_model.score(X_test, y_test)\n",
    "print(\"Polynomial Regression - Training R^2 score:\", poly_train_score)\n",
    "print(\"Polynomial Regression - Testing R^2 score:\", poly_test_score)\n"
   ]
  },
  {
   "cell_type": "code",
   "execution_count": 24,
   "metadata": {},
   "outputs": [
    {
     "name": "stdout",
     "output_type": "stream",
     "text": [
      "\u001b[1m13/13\u001b[0m \u001b[32m━━━━━━━━━━━━━━━━━━━━\u001b[0m\u001b[37m\u001b[0m \u001b[1m0s\u001b[0m 853us/step - loss: 137.1342\n",
      "\u001b[1m4/4\u001b[0m \u001b[32m━━━━━━━━━━━━━━━━━━━━\u001b[0m\u001b[37m\u001b[0m \u001b[1m0s\u001b[0m 1ms/step - loss: 111.2952 \n",
      "Neural Network - Training loss: 120.18917846679688\n",
      "Neural Network - Testing loss: 109.5559310913086\n"
     ]
    }
   ],
   "source": [
    "# Neural Network\n",
    "nn_model = Sequential([\n",
    "    Dense(32, activation='relu', input_shape=X_train.reshape(-1,1).shape),  # 1 input feature (height)\n",
    "    Dense(32, activation='relu'),\n",
    "    Dense(1)  # 1 output neuron for predicting pixel values (pix_height)\n",
    "])\n",
    "nn_model.compile(optimizer='adam', loss='mean_squared_error')\n",
    "nn_model.fit(X_train, y_train, epochs=200, batch_size=32, validation_split=0.2, verbose=0)\n",
    "nn_train_loss = nn_model.evaluate(X_train, y_train)\n",
    "nn_test_loss = nn_model.evaluate(X_test, y_test)\n",
    "print(\"Neural Network - Training loss:\", nn_train_loss)\n",
    "print(\"Neural Network - Testing loss:\", nn_test_loss)"
   ]
  },
  {
   "cell_type": "markdown",
   "metadata": {},
   "source": [
    "### MSE for NN\n"
   ]
  },
  {
   "cell_type": "code",
   "execution_count": 21,
   "metadata": {},
   "outputs": [
    {
     "data": {
      "text/plain": [
       "(100, 3)"
      ]
     },
     "execution_count": 21,
     "metadata": {},
     "output_type": "execute_result"
    }
   ],
   "source": [
    "X_test.shape"
   ]
  },
  {
   "cell_type": "code",
   "execution_count": 13,
   "metadata": {},
   "outputs": [
    {
     "data": {
      "text/plain": [
       "array([[81.  ],\n",
       "       [61.  ],\n",
       "       [81.3 ],\n",
       "       [71.2 ],\n",
       "       [81.3 ],\n",
       "       [61.  ],\n",
       "       [76.2 ],\n",
       "       [63.5 ],\n",
       "       [76.2 ],\n",
       "       [96.52],\n",
       "       [86.4 ],\n",
       "       [76.  ],\n",
       "       [78.5 ],\n",
       "       [86.4 ],\n",
       "       [63.5 ],\n",
       "       [66.  ],\n",
       "       [73.5 ],\n",
       "       [86.36],\n",
       "       [81.3 ],\n",
       "       [63.5 ],\n",
       "       [86.4 ],\n",
       "       [63.5 ],\n",
       "       [68.5 ],\n",
       "       [71.  ],\n",
       "       [61.  ],\n",
       "       [78.7 ],\n",
       "       [71.  ],\n",
       "       [63.5 ],\n",
       "       [61.  ],\n",
       "       [66.  ],\n",
       "       [91.4 ],\n",
       "       [86.4 ],\n",
       "       [61.  ],\n",
       "       [58.42],\n",
       "       [66.  ],\n",
       "       [66.  ],\n",
       "       [71.2 ],\n",
       "       [61.  ],\n",
       "       [68.5 ],\n",
       "       [81.3 ],\n",
       "       [84.  ],\n",
       "       [91.5 ],\n",
       "       [68.58],\n",
       "       [61.  ],\n",
       "       [81.3 ],\n",
       "       [83.82],\n",
       "       [68.5 ],\n",
       "       [86.4 ],\n",
       "       [84.  ],\n",
       "       [63.5 ],\n",
       "       [92.  ],\n",
       "       [76.  ],\n",
       "       [66.  ],\n",
       "       [61.  ],\n",
       "       [63.5 ],\n",
       "       [86.5 ],\n",
       "       [61.  ],\n",
       "       [83.8 ],\n",
       "       [76.2 ],\n",
       "       [66.  ],\n",
       "       [97.  ],\n",
       "       [68.58],\n",
       "       [73.5 ],\n",
       "       [86.4 ],\n",
       "       [76.2 ],\n",
       "       [81.28],\n",
       "       [71.  ],\n",
       "       [55.8 ],\n",
       "       [91.4 ],\n",
       "       [61.  ],\n",
       "       [81.3 ],\n",
       "       [68.5 ],\n",
       "       [89.  ],\n",
       "       [61.  ],\n",
       "       [66.  ],\n",
       "       [71.  ],\n",
       "       [63.5 ],\n",
       "       [58.4 ],\n",
       "       [80.4 ],\n",
       "       [78.7 ],\n",
       "       [71.  ],\n",
       "       [63.5 ],\n",
       "       [61.  ],\n",
       "       [71.2 ],\n",
       "       [81.3 ],\n",
       "       [68.5 ],\n",
       "       [74.  ],\n",
       "       [81.3 ],\n",
       "       [61.  ],\n",
       "       [76.2 ],\n",
       "       [66.  ],\n",
       "       [81.3 ],\n",
       "       [86.36],\n",
       "       [82.  ],\n",
       "       [63.5 ],\n",
       "       [91.4 ],\n",
       "       [71.  ],\n",
       "       [63.5 ],\n",
       "       [66.  ],\n",
       "       [83.8 ]])"
      ]
     },
     "execution_count": 13,
     "metadata": {},
     "output_type": "execute_result"
    }
   ],
   "source": [
    "y_test"
   ]
  },
  {
   "cell_type": "code",
   "execution_count": 25,
   "metadata": {},
   "outputs": [
    {
     "name": "stdout",
     "output_type": "stream",
     "text": [
      "\u001b[1m4/4\u001b[0m \u001b[32m━━━━━━━━━━━━━━━━━━━━\u001b[0m\u001b[37m\u001b[0m \u001b[1m0s\u001b[0m 5ms/step \n"
     ]
    }
   ],
   "source": [
    "# Neural Network\n",
    "# nn_pred_train = nn_model.predict(X_train)\n",
    "nn_pred_test = nn_model.predict(X_test)\n",
    "# nn_train_mse = mean_squared_error(y_train, nn_pred_train)\n",
    "# nn_test_mse = mean_squared_error(y_test, nn_pred_test)\n",
    "# print(\"Neural Network - Training MSE:\", nn_train_mse)\n",
    "# print(\"Neural Network - Testing MSE:\", nn_test_mse)"
   ]
  },
  {
   "cell_type": "code",
   "execution_count": 26,
   "metadata": {},
   "outputs": [
    {
     "data": {
      "text/plain": [
       "array([[[70.90964 ],\n",
       "        [73.681526],\n",
       "        [71.14061 ]],\n",
       "\n",
       "       [[70.992   ],\n",
       "        [73.58227 ],\n",
       "        [71.05975 ]],\n",
       "\n",
       "       [[71.38716 ],\n",
       "        [73.17259 ],\n",
       "        [70.97809 ]],\n",
       "\n",
       "       [[71.09569 ],\n",
       "        [73.334305],\n",
       "        [70.965485]],\n",
       "\n",
       "       [[70.88832 ],\n",
       "        [73.70271 ],\n",
       "        [71.198875]],\n",
       "\n",
       "       [[70.96452 ],\n",
       "        [73.58972 ],\n",
       "        [71.05058 ]],\n",
       "\n",
       "       [[71.037155],\n",
       "        [73.53466 ],\n",
       "        [71.08736 ]],\n",
       "\n",
       "       [[70.89597 ],\n",
       "        [73.622604],\n",
       "        [71.03552 ]],\n",
       "\n",
       "       [[70.80794 ],\n",
       "        [73.80415 ],\n",
       "        [71.05638 ]],\n",
       "\n",
       "       [[70.95517 ],\n",
       "        [73.22331 ],\n",
       "        [71.01643 ]],\n",
       "\n",
       "       [[71.07826 ],\n",
       "        [73.37671 ],\n",
       "        [70.973946]],\n",
       "\n",
       "       [[71.00842 ],\n",
       "        [73.535995],\n",
       "        [71.14588 ]],\n",
       "\n",
       "       [[71.29242 ],\n",
       "        [73.100174],\n",
       "        [70.98832 ]],\n",
       "\n",
       "       [[70.8925  ],\n",
       "        [73.98749 ],\n",
       "        [71.06804 ]],\n",
       "\n",
       "       [[70.928955],\n",
       "        [73.64109 ],\n",
       "        [70.95476 ]],\n",
       "\n",
       "       [[70.81727 ],\n",
       "        [73.73864 ],\n",
       "        [70.95572 ]],\n",
       "\n",
       "       [[71.02478 ],\n",
       "        [73.57663 ],\n",
       "        [71.09985 ]],\n",
       "\n",
       "       [[70.82583 ],\n",
       "        [73.77414 ],\n",
       "        [70.98578 ]],\n",
       "\n",
       "       [[71.13288 ],\n",
       "        [73.535965],\n",
       "        [71.104614]],\n",
       "\n",
       "       [[71.08602 ],\n",
       "        [73.35364 ],\n",
       "        [70.98213 ]],\n",
       "\n",
       "       [[71.254364],\n",
       "        [73.35906 ],\n",
       "        [71.01447 ]],\n",
       "\n",
       "       [[70.95198 ],\n",
       "        [73.64172 ],\n",
       "        [71.15741 ]],\n",
       "\n",
       "       [[71.06674 ],\n",
       "        [73.0944  ],\n",
       "        [70.96904 ]],\n",
       "\n",
       "       [[70.92524 ],\n",
       "        [73.72222 ],\n",
       "        [71.10442 ]],\n",
       "\n",
       "       [[70.8742  ],\n",
       "        [73.701935],\n",
       "        [71.049576]],\n",
       "\n",
       "       [[70.968864],\n",
       "        [73.63147 ],\n",
       "        [71.34044 ]],\n",
       "\n",
       "       [[70.93933 ],\n",
       "        [73.47587 ],\n",
       "        [71.20085 ]],\n",
       "\n",
       "       [[71.059586],\n",
       "        [73.608086],\n",
       "        [70.96834 ]],\n",
       "\n",
       "       [[70.84401 ],\n",
       "        [73.62518 ],\n",
       "        [71.04622 ]],\n",
       "\n",
       "       [[70.97635 ],\n",
       "        [73.54785 ],\n",
       "        [70.99343 ]],\n",
       "\n",
       "       [[70.86834 ],\n",
       "        [73.7531  ],\n",
       "        [71.14905 ]],\n",
       "\n",
       "       [[70.95984 ],\n",
       "        [73.609665],\n",
       "        [71.06792 ]],\n",
       "\n",
       "       [[71.12579 ],\n",
       "        [73.08823 ],\n",
       "        [70.87064 ]],\n",
       "\n",
       "       [[70.90671 ],\n",
       "        [73.76013 ],\n",
       "        [71.11286 ]],\n",
       "\n",
       "       [[70.98044 ],\n",
       "        [73.50349 ],\n",
       "        [70.9158  ]],\n",
       "\n",
       "       [[71.07443 ],\n",
       "        [73.5216  ],\n",
       "        [71.04616 ]],\n",
       "\n",
       "       [[70.87761 ],\n",
       "        [73.56639 ],\n",
       "        [71.171646]],\n",
       "\n",
       "       [[70.96184 ],\n",
       "        [73.52858 ],\n",
       "        [71.617096]],\n",
       "\n",
       "       [[71.183105],\n",
       "        [73.1355  ],\n",
       "        [70.939384]],\n",
       "\n",
       "       [[70.96002 ],\n",
       "        [73.662254],\n",
       "        [71.284424]],\n",
       "\n",
       "       [[70.8365  ],\n",
       "        [73.85549 ],\n",
       "        [71.07586 ]],\n",
       "\n",
       "       [[70.851395],\n",
       "        [73.74711 ],\n",
       "        [71.10083 ]],\n",
       "\n",
       "       [[71.05142 ],\n",
       "        [73.51613 ],\n",
       "        [71.04588 ]],\n",
       "\n",
       "       [[70.83035 ],\n",
       "        [73.77291 ],\n",
       "        [71.07309 ]],\n",
       "\n",
       "       [[70.839096],\n",
       "        [73.870255],\n",
       "        [70.88434 ]],\n",
       "\n",
       "       [[70.98003 ],\n",
       "        [73.48276 ],\n",
       "        [71.067986]],\n",
       "\n",
       "       [[70.96197 ],\n",
       "        [73.79286 ],\n",
       "        [71.22458 ]],\n",
       "\n",
       "       [[70.93892 ],\n",
       "        [73.34957 ],\n",
       "        [71.11802 ]],\n",
       "\n",
       "       [[70.97002 ],\n",
       "        [73.62106 ],\n",
       "        [71.08174 ]],\n",
       "\n",
       "       [[71.02083 ],\n",
       "        [73.554085],\n",
       "        [71.01973 ]],\n",
       "\n",
       "       [[71.02389 ],\n",
       "        [73.5096  ],\n",
       "        [71.10855 ]],\n",
       "\n",
       "       [[71.13719 ],\n",
       "        [73.14467 ],\n",
       "        [71.01839 ]],\n",
       "\n",
       "       [[71.463745],\n",
       "        [72.88183 ],\n",
       "        [70.926575]],\n",
       "\n",
       "       [[70.87601 ],\n",
       "        [73.76537 ],\n",
       "        [70.97933 ]],\n",
       "\n",
       "       [[71.05774 ],\n",
       "        [73.363815],\n",
       "        [70.97966 ]],\n",
       "\n",
       "       [[71.010025],\n",
       "        [73.414856],\n",
       "        [71.045135]],\n",
       "\n",
       "       [[70.95987 ],\n",
       "        [73.69123 ],\n",
       "        [71.080536]],\n",
       "\n",
       "       [[70.95056 ],\n",
       "        [73.54273 ],\n",
       "        [71.09412 ]],\n",
       "\n",
       "       [[70.970726],\n",
       "        [73.677925],\n",
       "        [71.28188 ]],\n",
       "\n",
       "       [[71.113556],\n",
       "        [73.41672 ],\n",
       "        [70.98042 ]],\n",
       "\n",
       "       [[71.061775],\n",
       "        [73.54718 ],\n",
       "        [71.112724]],\n",
       "\n",
       "       [[70.92303 ],\n",
       "        [73.47802 ],\n",
       "        [70.95216 ]],\n",
       "\n",
       "       [[70.89563 ],\n",
       "        [73.43181 ],\n",
       "        [70.96453 ]],\n",
       "\n",
       "       [[70.901054],\n",
       "        [73.69496 ],\n",
       "        [70.89209 ]],\n",
       "\n",
       "       [[70.97479 ],\n",
       "        [73.75879 ],\n",
       "        [71.10536 ]],\n",
       "\n",
       "       [[70.82856 ],\n",
       "        [73.80115 ],\n",
       "        [70.90083 ]],\n",
       "\n",
       "       [[71.095985],\n",
       "        [73.46033 ],\n",
       "        [71.02864 ]],\n",
       "\n",
       "       [[70.874344],\n",
       "        [73.74892 ],\n",
       "        [70.9389  ]],\n",
       "\n",
       "       [[71.07832 ],\n",
       "        [73.24643 ],\n",
       "        [71.03453 ]],\n",
       "\n",
       "       [[71.00142 ],\n",
       "        [73.52139 ],\n",
       "        [71.02336 ]],\n",
       "\n",
       "       [[71.115585],\n",
       "        [73.40004 ],\n",
       "        [71.00366 ]],\n",
       "\n",
       "       [[71.15194 ],\n",
       "        [73.158615],\n",
       "        [71.01235 ]],\n",
       "\n",
       "       [[71.10422 ],\n",
       "        [73.45873 ],\n",
       "        [71.0987  ]],\n",
       "\n",
       "       [[70.8927  ],\n",
       "        [73.65636 ],\n",
       "        [71.077866]],\n",
       "\n",
       "       [[70.937836],\n",
       "        [73.512405],\n",
       "        [70.901566]],\n",
       "\n",
       "       [[70.906204],\n",
       "        [73.64931 ],\n",
       "        [70.94329 ]],\n",
       "\n",
       "       [[70.92163 ],\n",
       "        [73.4111  ],\n",
       "        [70.942245]],\n",
       "\n",
       "       [[70.95383 ],\n",
       "        [73.30231 ],\n",
       "        [71.00912 ]],\n",
       "\n",
       "       [[70.97531 ],\n",
       "        [73.6022  ],\n",
       "        [71.081154]],\n",
       "\n",
       "       [[71.030914],\n",
       "        [73.68599 ],\n",
       "        [71.17021 ]],\n",
       "\n",
       "       [[71.150215],\n",
       "        [73.40855 ],\n",
       "        [71.05365 ]],\n",
       "\n",
       "       [[71.08351 ],\n",
       "        [73.48598 ],\n",
       "        [71.01172 ]],\n",
       "\n",
       "       [[71.02773 ],\n",
       "        [73.37797 ],\n",
       "        [70.99779 ]],\n",
       "\n",
       "       [[71.08331 ],\n",
       "        [73.29076 ],\n",
       "        [71.01955 ]],\n",
       "\n",
       "       [[70.9114  ],\n",
       "        [73.7492  ],\n",
       "        [71.15752 ]],\n",
       "\n",
       "       [[70.955734],\n",
       "        [73.48127 ],\n",
       "        [70.93036 ]],\n",
       "\n",
       "       [[71.090546],\n",
       "        [73.47322 ],\n",
       "        [70.97708 ]],\n",
       "\n",
       "       [[70.94595 ],\n",
       "        [73.576355],\n",
       "        [71.142815]],\n",
       "\n",
       "       [[71.15393 ],\n",
       "        [73.29469 ],\n",
       "        [70.85472 ]],\n",
       "\n",
       "       [[70.909004],\n",
       "        [73.70867 ],\n",
       "        [71.074905]],\n",
       "\n",
       "       [[71.25301 ],\n",
       "        [73.096954],\n",
       "        [70.92146 ]],\n",
       "\n",
       "       [[71.11168 ],\n",
       "        [73.4214  ],\n",
       "        [71.03281 ]],\n",
       "\n",
       "       [[70.88801 ],\n",
       "        [73.48274 ],\n",
       "        [71.072495]],\n",
       "\n",
       "       [[70.989044],\n",
       "        [73.64972 ],\n",
       "        [71.27605 ]],\n",
       "\n",
       "       [[70.93038 ],\n",
       "        [73.741066],\n",
       "        [70.956764]],\n",
       "\n",
       "       [[70.913765],\n",
       "        [73.70927 ],\n",
       "        [71.17058 ]],\n",
       "\n",
       "       [[71.0925  ],\n",
       "        [73.53441 ],\n",
       "        [71.02763 ]],\n",
       "\n",
       "       [[70.93126 ],\n",
       "        [73.51708 ],\n",
       "        [71.38391 ]],\n",
       "\n",
       "       [[70.99577 ],\n",
       "        [73.34937 ],\n",
       "        [70.96605 ]],\n",
       "\n",
       "       [[71.02148 ],\n",
       "        [73.15423 ],\n",
       "        [71.06288 ]]], dtype=float32)"
      ]
     },
     "execution_count": 26,
     "metadata": {},
     "output_type": "execute_result"
    }
   ],
   "source": [
    "nn_pred_test"
   ]
  },
  {
   "cell_type": "code",
   "execution_count": 39,
   "metadata": {},
   "outputs": [
    {
     "name": "stdout",
     "output_type": "stream",
     "text": [
      "Linear Regression - Testing MSE: 109.57588386287068\n",
      "Random Forest - Testing MSE: 101.5736927604\n",
      "Polynomial Regression - Testing MSE: 100.15436719932062\n"
     ]
    }
   ],
   "source": [
    "# Linear Regression\n",
    "linear_pred_train = linear_model.predict(X_train)\n",
    "linear_pred_test = linear_model.predict(X_test)\n",
    "# linear_train_mse = mean_squared_error(y_train, linear_pred_train)\n",
    "linear_test_mse = mean_squared_error(y_test, linear_pred_test)\n",
    "# print(\"Linear Regression - Training MSE:\", linear_train_mse)\n",
    "print(\"Linear Regression - Testing MSE:\", linear_test_mse)\n",
    "\n",
    "# Random Forest\n",
    "rf_pred_train = rf_model.predict(X_train)\n",
    "rf_pred_test = rf_model.predict(X_test)\n",
    "# rf_train_mse = mean_squared_error(y_train, rf_pred_train)\n",
    "rf_test_mse = mean_squared_error(y_test, rf_pred_test)\n",
    "# print(\"Random Forest - Training MSE:\", rf_train_mse)\n",
    "print(\"Random Forest - Testing MSE:\", rf_test_mse)\n",
    "\n",
    "# Polynomial Regression\n",
    "poly_pred_train = poly_model.predict(X_train)\n",
    "poly_pred_test = poly_model.predict(X_test)\n",
    "# poly_train_mse = mean_squared_error(y_train, poly_pred_train)\n",
    "poly_test_mse = mean_squared_error(y_test, poly_pred_test)\n",
    "# print(\"Polynomial Regression - Training MSE:\", poly_train_mse)\n",
    "print(\"Polynomial Regression - Testing MSE:\", poly_test_mse)"
   ]
  },
  {
   "cell_type": "code",
   "execution_count": 28,
   "metadata": {},
   "outputs": [
    {
     "data": {
      "text/plain": [
       "(100, 3)"
      ]
     },
     "execution_count": 28,
     "metadata": {},
     "output_type": "execute_result"
    }
   ],
   "source": [
    "X_test.shape"
   ]
  },
  {
   "cell_type": "code",
   "execution_count": 29,
   "metadata": {},
   "outputs": [
    {
     "data": {
      "text/plain": [
       "(100, 1)"
      ]
     },
     "execution_count": 29,
     "metadata": {},
     "output_type": "execute_result"
    }
   ],
   "source": [
    "y_test.shape"
   ]
  },
  {
   "cell_type": "code",
   "execution_count": 30,
   "metadata": {},
   "outputs": [
    {
     "data": {
      "text/plain": [
       "array([85.5248, 71.8004, 76.148 , 73.6322, 74.735 , 70.5192, 75.41  ,\n",
       "       66.617 , 76.7782, 75.326 , 66.6344, 80.3518, 78.77  , 76.1082,\n",
       "       64.352 , 70.149 , 78.9614, 70.3566, 82.88  , 66.9922, 64.9284,\n",
       "       84.8062, 76.547 , 82.804 , 65.481 , 80.0504, 71.3818, 63.76  ,\n",
       "       70.7524, 63.093 , 83.1936, 71.649 , 65.651 , 82.8198, 64.083 ,\n",
       "       77.9848, 70.7194, 84.086 , 64.034 , 78.2182, 74.5874, 67.1744,\n",
       "       71.121 , 71.3726, 65.4526, 65.8996, 69.0558, 74.0542, 69.813 ,\n",
       "       67.3252, 79.3054, 77.2892, 75.677 , 68.62  , 65.0892, 78.8474,\n",
       "       70.0794, 78.7024, 60.664 , 72.7004, 83.9514, 66.894 , 71.683 ,\n",
       "       64.159 , 80.397 , 66.9796, 71.86  , 64.483 , 75.456 , 65.835 ,\n",
       "       70.1456, 77.795 , 81.5898, 71.554 , 64.422 , 64.604 , 64.531 ,\n",
       "       71.763 , 73.1388, 85.1654, 75.8984, 65.5806, 65.587 , 74.6022,\n",
       "       83.0466, 63.958 , 66.977 , 80.1864, 62.015 , 75.8268, 67.232 ,\n",
       "       76.1192, 71.871 , 63.0602, 66.732 , 83.5312, 67.1776, 76.117 ,\n",
       "       67.996 , 67.285 ])"
      ]
     },
     "execution_count": 30,
     "metadata": {},
     "output_type": "execute_result"
    }
   ],
   "source": [
    "rf_pred_test"
   ]
  },
  {
   "cell_type": "code",
   "execution_count": 31,
   "metadata": {},
   "outputs": [
    {
     "data": {
      "image/png": "[encoded data removed]",
      "text/plain": [
       "<Figure size 1000x600 with 1 Axes>"
      ]
     },
     "metadata": {},
     "output_type": "display_data"
    }
   ],
   "source": [
    "# Plot second dimension of X_test against y_test\n",
    "plt.figure(figsize=(10, 6))\n",
    "plt.scatter(X_test[:, 2], y_test, color='blue', label='Actual')\n",
    "plt.scatter(X_test[:, 2], rf_pred_test, color='red', label='Predicted')\n",
    "plt.title('Actual vs Predicted (Second Dimension of X_test)')\n",
    "plt.xlabel('Second Dimension of X_test')\n",
    "plt.ylabel('y_test')\n",
    "plt.legend()\n",
    "plt.grid(True)\n",
    "plt.show()\n"
   ]
  },
  {
   "cell_type": "code",
   "execution_count": 32,
   "metadata": {},
   "outputs": [
    {
     "data": {
      "image/png": "[encoded data removed]",
      "text/plain": [
       "<Figure size 1000x600 with 1 Axes>"
      ]
     },
     "metadata": {},
     "output_type": "display_data"
    }
   ],
   "source": [
    "# Plot second dimension of X_test against y_test\n",
    "plt.figure(figsize=(10, 6))\n",
    "plt.scatter(X_test[:, 2], y_test, color='blue', label='Actual')\n",
    "plt.scatter(X_test[:, 2], poly_pred_test, color='red', label='Predicted')\n",
    "plt.title('Actual vs Predicted (Second Dimension of X_test)')\n",
    "plt.xlabel('Second Dimension of X_test')\n",
    "plt.ylabel('y_test')\n",
    "plt.legend()\n",
    "plt.grid(True)\n",
    "plt.show()\n"
   ]
  },
  {
   "cell_type": "code",
   "execution_count": 33,
   "metadata": {},
   "outputs": [
    {
     "data": {
      "image/png": "[encoded data removed]",
      "text/plain": [
       "<Figure size 1000x600 with 1 Axes>"
      ]
     },
     "metadata": {},
     "output_type": "display_data"
    }
   ],
   "source": [
    "# Plot second dimension of X_test against y_test\n",
    "plt.figure(figsize=(10, 6))\n",
    "plt.scatter(X_test[:, 2], y_test, color='blue', label='Actual')\n",
    "plt.scatter(X_test[:, 2], linear_pred_test, color='red', label='Predicted')\n",
    "plt.title('Actual vs Predicted (Second Dimension of X_test)')\n",
    "plt.xlabel('Second Dimension of X_test')\n",
    "plt.ylabel('y_test')\n",
    "plt.legend()\n",
    "plt.grid(True)\n",
    "plt.show()\n"
   ]
  },
  {
   "cell_type": "code",
   "execution_count": 31,
   "metadata": {},
   "outputs": [
    {
     "name": "stdout",
     "output_type": "stream",
     "text": [
      "<class 'pandas.core.frame.DataFrame'>\n",
      "Index: 496 entries, 0 to 499\n",
      "Data columns (total 10 columns):\n",
      " #   Column                 Non-Null Count  Dtype  \n",
      "---  ------                 --------------  -----  \n",
      " 0   Unnamed: 0             496 non-null    int64  \n",
      " 1   Filename               496 non-null    object \n",
      " 2   Height                 496 non-null    float64\n",
      " 3   Waist                  496 non-null    float64\n",
      " 4   Chest                  496 non-null    float64\n",
      " 5   Shoulder               496 non-null    float64\n",
      " 6   pix_height             496 non-null    float64\n",
      " 7   pix_shoulder_distance  496 non-null    float64\n",
      " 8   pix_waist_distance     496 non-null    float64\n",
      " 9   top_pix_distance       496 non-null    float64\n",
      "dtypes: float64(8), int64(1), object(1)\n",
      "memory usage: 42.6+ KB\n"
     ]
    }
   ],
   "source": [
    "# df['Height & Weight'] = df['Height & Weight'].astype(float)\n",
    "\n",
    "df.info()\n"
   ]
  },
  {
   "cell_type": "markdown",
   "metadata": {},
   "source": [
    "# TESTING "
   ]
  },
  {
   "cell_type": "code",
   "execution_count": 34,
   "metadata": {},
   "outputs": [],
   "source": [
    "import cv2\n",
    "import mediapipe as mp"
   ]
  },
  {
   "cell_type": "code",
   "execution_count": 38,
   "metadata": {},
   "outputs": [
    {
     "name": "stdout",
     "output_type": "stream",
     "text": [
      "POLY MODEL Pixel Height 0.26282426910322126\n",
      "[[72.24074072]]\n"
     ]
    },
    {
     "name": "stderr",
     "output_type": "stream",
     "text": [
      "I0000 00:00:1714296474.069790  208779 gl_context_egl.cc:85] Successfully initialized EGL. Major : 1 Minor: 5\n",
      "I0000 00:00:1714296474.070674  253340 gl_context.cc:357] GL version: 3.2 (OpenGL ES 3.2 Mesa 23.2.1-1ubuntu3.1~22.04.2), renderer: Mesa Intel(R) Graphics (RPL-P)\n",
      "/home/saiganesh.s/.local/lib/python3.10/site-packages/google/protobuf/symbol_database.py:55: UserWarning: SymbolDatabase.GetPrototype() is deprecated. Please use message_factory.GetMessageClass() instead. SymbolDatabase.GetPrototype() will be removed soon.\n",
      "  warnings.warn('SymbolDatabase.GetPrototype() is deprecated. Please '\n"
     ]
    }
   ],
   "source": [
    "pixel_height_to_predict = calculate_person_height('/home/saiganesh.s/ML/body_measurements/Dataset/012-cameron-diaz.jpg')\n",
    "# pixel_height_to_predict = calculate_person_height('/home/saiganesh.s/ML/body_measurements/crishemsworth.jpg')\n",
    "print(\"POLY MODEL Pixel Height\" ,pixel_height_to_predict[1])\n",
    "waist=pixel_height_to_predict[2]\n",
    "height=pixel_height_to_predict[0]\n",
    "top_pixel=pixel_height_to_predict[3]\n",
    "prediction=poly_model.predict([[top_pixel,height,waist]])\n",
    "# predicted_height_cm=prediction[0][0]\n",
    "\n",
    "print(prediction)"
   ]
  }
 ],
 "metadata": {
  "kernelspec": {
   "display_name": "Python 3",
   "language": "python",
   "name": "python3"
  },
  "language_info": {
   "codemirror_mode": {
    "name": "ipython",
    "version": 3
   },
   "file_extension": ".py",
   "mimetype": "text/x-python",
   "name": "python",
   "nbconvert_exporter": "python",
   "pygments_lexer": "ipython3",
   "version": "3.10.12"
  }
 },
 "nbformat": 4,
 "nbformat_minor": 2
}
